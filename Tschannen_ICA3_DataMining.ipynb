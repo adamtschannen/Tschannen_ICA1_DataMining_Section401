{
 "cells": [
  {
   "cell_type": "code",
   "execution_count": 1,
   "metadata": {},
   "outputs": [
    {
     "data": {
      "text/html": [
       "<link href='https://fonts.googleapis.com/css?family=Passion+One' rel='stylesheet' type='text/css'><style>div.attn { font-family: 'Helvetica Neue'; font-size: 30px; line-height: 40px; color: #FFFFFF; text-align: center; margin: 30px 0; border-width: 10px 0; border-style: solid; border-color: #5AAAAA; padding: 30px 0; background-color: #DDDDFF; }hr { border: 0; background-color: #ffffff; border-top: 1px solid black; }hr.major { border-top: 10px solid #5AAA5A; }hr.minor { border: none; background-color: #ffffff; border-top: 5px dotted #CC3333; }div.bubble { width: 65%; padding: 20px; background: #DDDDDD; border-radius: 15px; margin: 0 auto; font-style: italic; color: #f00; }em { color: #AAA; }div.c1{visibility:hidden;margin:0;height:0;}div.note{color:red;}</style>"
      ],
      "text/plain": [
       "<IPython.core.display.HTML object>"
      ]
     },
     "execution_count": 1,
     "metadata": {},
     "output_type": "execute_result"
    }
   ],
   "source": [
    "#  Ebnable HTML/CSS \n",
    "from IPython.core.display import HTML\n",
    "HTML(\"<link href='https://fonts.googleapis.com/css?family=Passion+One' rel='stylesheet' type='text/css'><style>div.attn { font-family: 'Helvetica Neue'; font-size: 30px; line-height: 40px; color: #FFFFFF; text-align: center; margin: 30px 0; border-width: 10px 0; border-style: solid; border-color: #5AAAAA; padding: 30px 0; background-color: #DDDDFF; }hr { border: 0; background-color: #ffffff; border-top: 1px solid black; }hr.major { border-top: 10px solid #5AAA5A; }hr.minor { border: none; background-color: #ffffff; border-top: 5px dotted #CC3333; }div.bubble { width: 65%; padding: 20px; background: #DDDDDD; border-radius: 15px; margin: 0 auto; font-style: italic; color: #f00; }em { color: #AAA; }div.c1{visibility:hidden;margin:0;height:0;}div.note{color:red;}</style>\")"
   ]
  },
  {
   "cell_type": "markdown",
   "metadata": {},
   "source": [
    "___\n",
    "Enter Team Member Names here (double click to edit):\n",
    "\n",
    "- Jostein Barry-Straume\n",
    "- Ernesto Carrera Ruvalcaba\n",
    "- Adam Tschannen\n",
    "- Kevin Cannon\n",
    "\n",
    "________\n",
    "\n",
    "# In Class Assignment Three\n",
    "In the following assignment you will be asked to fill in python code and derivations for a number of different problems. Please read all instructions carefully and turn in the rendered notebook (or HTML of the rendered notebook)  before the end of class.\n",
    "\n",
    "<a id=\"top\"></a>\n",
    "## Contents\n",
    "* <a href=\"#Loading\">Loading the Data</a>\n",
    "* <a href=\"#distance\">Measuring Distances</a>\n",
    "* <a href=\"#KNN\">K-Nearest Neighbors</a>\n",
    "* <a href=\"#naive\">Naive Bayes</a>\n",
    "\n",
    "________________________________________________________________________________________________________\n",
    "<a id=\"Loading\"></a>\n",
    "<a href=\"#top\">Back to Top</a>\n",
    "## Downloading the Document Data\n",
    "Please run the following code to read in the \"20 newsgroups\" dataset from sklearn's data loading module."
   ]
  },
  {
   "cell_type": "code",
   "execution_count": 2,
   "metadata": {},
   "outputs": [
    {
     "name": "stdout",
     "output_type": "stream",
     "text": [
      "features shape: (11314, 130107)\n",
      "target shape: (11314,)\n",
      "range of target: 0 19\n",
      "Data type is <class 'scipy.sparse.csr.csr_matrix'> 0.1214353154362896 % of the data is non-zero\n"
     ]
    }
   ],
   "source": [
    "from sklearn.datasets import fetch_20newsgroups_vectorized\n",
    "import numpy as np\n",
    "from __future__ import print_function\n",
    "\n",
    "# this takes about 30 seconds to compute, read the next section while this downloads\n",
    "ds = fetch_20newsgroups_vectorized(subset='train')\n",
    "\n",
    "# this holds the continuous feature data (which is tfidf)\n",
    "print('features shape:', ds.data.shape) # there are ~11000 instances and ~130k features per instance\n",
    "print('target shape:', ds.target.shape) \n",
    "print('range of target:', np.min(ds.target),np.max(ds.target))\n",
    "print('Data type is', type(ds.data), float(ds.data.nnz)/(ds.data.shape[0]*ds.data.shape[1])*100, '% of the data is non-zero')"
   ]
  },
  {
   "cell_type": "markdown",
   "metadata": {},
   "source": [
    "## Understanding the Dataset\n",
    "Look at the description for the 20 newsgroups dataset at http://qwone.com/~jason/20Newsgroups/. You have just downloaded the \"vectorized\" version of the dataset, which means all the words inside the articles have gone through a transformation that binned them into 130 thousand features related to the words in them.  \n",
    "\n",
    "**Question Set 1**:\n",
    "- How many instances are in the dataset? \n",
    "- What does each instance represent? \n",
    "- How many classes are in the dataset and what does each class represent?\n",
    "- Would you expect a classifier trained on this data would generalize to documents written in the past week? Why or why not?\n",
    "- Is the data represented as a sparse or dense matrix?"
   ]
  },
  {
   "cell_type": "markdown",
   "metadata": {},
   "source": [
    "___\n",
    "Enter your answer here:\n",
    "\n",
    "- How many instances are in the dataset? \n",
    "\n",
    "> There are 11,314 instances in the dataset.\n",
    "\n",
    "- What does each instance represent?\n",
    "\n",
    "> Each instance represents a word index/array of 130,107 words that might be in the news document. Represents a sparse word vector.\n",
    "\n",
    "- How many classes are in the dataset and what does each class represent?\n",
    "\n",
    "> There are 130107 classes in the dataset, with each class representing how frequent a word appears in a given news document. There are 20 classes in the dataset.\n",
    "\n",
    "- Would you expect a classifier trained on this data would generalize to documents written in the past week? Why or why not?\n",
    "\n",
    "> This document collection is 20 years old. Data is stale. English language, at least with regards to nouns, change at a rapid pace. 'Google' and 'Obama' were not in the vernacular 20 years ago.\n",
    "\n",
    "- Is the data represented as a sparse or dense matrix?\n",
    "\n",
    "> The data is represented as a sparse matrix. 12.14% of the data is non-zero."
   ]
  },
  {
   "cell_type": "markdown",
   "metadata": {},
   "source": [
    "___\n",
    "<a id=\"distance\"></a>\n",
    "<a href=\"#top\">Back to Top</a>\n",
    "## Measures of Distance\n",
    "In the following block of code, we isolate three instances from the dataset. The instance \"`a`\" is from the group *computer graphics*, \"`b`\" is from from the group *recreation autos*, and \"`c`\" is from group *recreation motorcycle*. **Exercise for part 2**: Calculate the: \n",
    "- (1) Euclidean distance\n",
    "- (2) Cosine distance \n",
    "- (3) Jaccard similarity \n",
    "\n",
    "between each pair of instances using the imported functions below. Remember that the Jaccard similarity is only for binary valued vectors, so convert vectors to binary using a threshold. \n",
    "\n",
    "**Question for part 2**: Which distance seems more appropriate to use for this data? **Why**?"
   ]
  },
  {
   "cell_type": "code",
   "execution_count": 3,
   "metadata": {},
   "outputs": [
    {
     "name": "stdout",
     "output_type": "stream",
     "text": [
      "Instance A is from class comp.graphics\n",
      "Instance B is from class rec.autos\n",
      "Instance C is from class rec.motorcycles\n",
      "\n",
      "\n",
      "Euclidean Distance\n",
      " ab: 1.0985184671870858 ac: 1.1891405425398234 bc: 0.9177794226661624\n",
      "Cosine Distance\n",
      " ab: 0.603371411376 ac: 0.707027614956 bc: 0.421159534335\n",
      "Jaccard Dissimilarity (vectors should be boolean values)\n",
      " ab: 0.882113821138 ac: 0.875471698113 bc: 0.908794788274\n",
      "\n",
      "\n",
      "The most appropriate distance is...\n",
      "Cosine. It clearly delineates between topics effectively. B and C are closest (by far)\n",
      "and A is about the same distance from B and C. Euclidean also works well, but not quite as good as \"cosine\"\n"
     ]
    }
   ],
   "source": [
    "from scipy.spatial.distance import cosine\n",
    "from scipy.spatial.distance import euclidean\n",
    "from scipy.spatial.distance import jaccard\n",
    "import numpy as np\n",
    "\n",
    "# get first instance (comp)\n",
    "idx = 550\n",
    "a = ds.data[idx].todense()\n",
    "a_class = ds.target_names[ds.target[idx]]\n",
    "print('Instance A is from class', a_class)\n",
    "\n",
    "# get second instance (autos)\n",
    "idx = 4000\n",
    "b = ds.data[idx].todense()\n",
    "b_class = ds.target_names[ds.target[idx]]\n",
    "print('Instance B is from class', b_class)\n",
    "\n",
    "# get third instance (motorcycle)\n",
    "idx = 7000\n",
    "c = ds.data[idx].todense()\n",
    "c_class = ds.target_names[ds.target[idx]]\n",
    "print('Instance C is from class', c_class)\n",
    "\n",
    "# Enter distance comparison below for each pair of vectors:\n",
    "p = 'Placeholder'\n",
    "print('\\n\\nEuclidean Distance\\n ab:', euclidean(a,b), 'ac:', euclidean(a,c), 'bc:', euclidean(b,c))\n",
    "print('Cosine Distance\\n ab:', cosine(a,b), 'ac:', cosine(a,c), 'bc:', cosine(b,c))\n",
    "print('Jaccard Dissimilarity (vectors should be boolean values)\\n ab:', jaccard(a>0,b>0), 'ac:', jaccard(a>0,c>0), 'bc:', jaccard(b>0,c>0))\n",
    "\n",
    "print('\\n\\nThe most appropriate distance is...')\n",
    "print('Cosine. It clearly delineates between topics effectively. B and C are closest (by far)')\n",
    "print('and A is about the same distance from B and C. Euclidean also works well, but not quite as good as \"cosine\"')"
   ]
  },
  {
   "cell_type": "markdown",
   "metadata": {},
   "source": [
    "___\n",
    "# Start of Live Session Assignment\n",
    "___\n",
    "<a id=\"KNN\"></a>\n",
    "<a href=\"#top\">Back to Top</a>\n",
    "## Using scikit-learn with KNN\n",
    "Now let's use stratified cross validation with a holdout set to train a KNN model in `scikit-learn`. Use the example below to train a KNN classifier. The documentation for `KNeighborsClassifier` is here: http://scikit-learn.org/stable/modules/generated/sklearn.neighbors.KNeighborsClassifier.html  \n",
    "\n",
    "**Exercise for part 3**: Use the code below to test what value of `n_neighbors` works best for the given data. *Note: do NOT change the metric to be anything other than `'euclidean'`. Other distance functions are not optimized for the amount of data we are working with.* \n",
    "\n",
    "**Question for part 3**: What is the accuracy of the best classifier you can create for this data (by changing only the `n_neighbors` parameter)? "
   ]
  },
  {
   "cell_type": "code",
   "execution_count": 4,
   "metadata": {},
   "outputs": [
    {
     "name": "stderr",
     "output_type": "stream",
     "text": [
      "/Users/atschannen/anaconda3/lib/python3.6/site-packages/sklearn/cross_validation.py:41: DeprecationWarning: This module was deprecated in version 0.18 in favor of the model_selection module into which all the refactored classes and functions are moved. Also note that the interface of the new CV iterators are different from that of this module. This module will be removed in 0.20.\n",
      "  \"This module will be removed in 0.20.\", DeprecationWarning)\n",
      "/Users/atschannen/anaconda3/lib/python3.6/site-packages/IPython/html.py:14: ShimWarning: The `IPython.html` package has been deprecated since IPython 4.0. You should import from `notebook` instead. `IPython.html.widgets` has moved to `ipywidgets`.\n",
      "  \"`IPython.html.widgets` has moved to `ipywidgets`.\", ShimWarning)\n"
     ]
    },
    {
     "name": "stdout",
     "output_type": "stream",
     "text": [
      "Accuracy of 1 neighbors is 59.961110129 %\n",
      "Accuracy of 2 neighbors is 54.4281421248 %\n",
      "Accuracy of 3 neighbors is 52.8548700725 %\n",
      "Accuracy of 4 neighbors is 49.9204525367 %\n",
      "Accuracy of 5 neighbors is 48.9835601909 %\n",
      "Accuracy of 6 neighbors is 48.0996994874 %\n",
      "Accuracy of 7 neighbors is 47.268870426 %\n",
      "Accuracy of 8 neighbors is 46.526427435 %\n",
      "Accuracy of 9 neighbors is 45.7309528018 %\n",
      "\n",
      "The best accuracy is 0.599611 with 1 neighbor(s)\n"
     ]
    }
   ],
   "source": [
    "from sklearn.cross_validation import StratifiedShuffleSplit\n",
    "from sklearn.neighbors import KNeighborsClassifier\n",
    "from sklearn.metrics import accuracy_score\n",
    "from IPython.html import widgets \n",
    "from sklearn.metrics import accuracy_score \n",
    "from sklearn import metrics as mt\n",
    "\n",
    "cv = StratifiedShuffleSplit(ds.target, n_iter = 1, test_size = 0.5, train_size=0.5)\n",
    "\n",
    "# fill in the training and testing data and save as separate variables\n",
    "for trainidx, testidx in cv:\n",
    "    # note that these are sparse matrices\n",
    "    X_train = ds.data[trainidx] \n",
    "    X_test = ds.data[testidx] \n",
    "    y_train = ds.target[trainidx]\n",
    "    y_test = ds.target[testidx]\n",
    "\n",
    "# fill in your code  here to train and test\n",
    "# calculate the accuracy and print it for various values of K\n",
    "\n",
    "max_accs = 0\n",
    "max_k = 0\n",
    "\n",
    "for k in range(1,10):\n",
    "    clf = KNeighborsClassifier(n_neighbors=k, weights='uniform', metric='euclidean')\n",
    "    clf.fit(X_train, y_train)\n",
    "    yhat = clf.predict(X_test)\n",
    "    acc = mt.accuracy_score(y_test,yhat)\n",
    "    if max(max_accs, acc) == acc:\n",
    "        max_accs = acc\n",
    "        max_k = k\n",
    "    print('Accuracy of', k, 'neighbors is', acc * 100, '%')\n",
    "\n",
    "print('\\nThe best accuracy is %f with %d neighbor(s)'%(max_accs,max_k))"
   ]
  },
  {
   "cell_type": "markdown",
   "metadata": {},
   "source": [
    "**Question for part 3**: With sparse data, does the use of a KDTree representation make sense? Why or Why not?"
   ]
  },
  {
   "cell_type": "markdown",
   "metadata": {},
   "source": [
    "Enter your answer below:\n",
    "\n",
    "> Easier to just calculate all the words. Sparse data won't branch well with so many frequent zero instances, so each tree will be very deep.\n"
   ]
  },
  {
   "cell_type": "markdown",
   "metadata": {
    "collapsed": true
   },
   "source": [
    "_____\n",
    "## KNN extensions - Centroids\n",
    "Now lets look at a very closely related classifier to KNN, called nearest centroid. In this classifier (which is more appropriate for big data scenarios and sparse data), the training step is used to calculate the centroids for each class. These centroids are saved. Unknown attributes, at prediction time, only need to have distances calculated for each saved centroid, drastically decreasing the time required for a prediction. \n",
    "\n",
    "**Exercise for part 4**: Use the template code below to create a nearest centroid classifier. Test which metric has the best cross validated performance: Euclidean, Cosine, or Manhattan. In `scikit-learn` you can see the documentation for NearestCentroid here: \n",
    "- http://scikit-learn.org/stable/modules/generated/sklearn.neighbors.NearestCentroid.html#sklearn.neighbors.NearestCentroid\n",
    "\n",
    "and for supported distance metrics here:\n",
    "- http://scikit-learn.org/stable/modules/generated/sklearn.metrics.pairwise.distance_metrics.html#sklearn.metrics.pairwise.distance_metrics"
   ]
  },
  {
   "cell_type": "code",
   "execution_count": 5,
   "metadata": {},
   "outputs": [
    {
     "name": "stderr",
     "output_type": "stream",
     "text": [
      "/Users/atschannen/anaconda3/lib/python3.6/site-packages/sklearn/neighbors/nearest_centroid.py:140: UserWarning: Averaging for metrics other than euclidean and manhattan not supported. The average is set to be the mean.\n",
      "  warnings.warn(\"Averaging for metrics other than \"\n"
     ]
    },
    {
     "name": "stdout",
     "output_type": "stream",
     "text": [
      "\n",
      "Accuracy of l1 metrics is 30.9881562666 %\n",
      "The best distance metric is:  l1\n",
      "\n",
      "Accuracy of l2 metrics is 39.8444405162 %\n",
      "The best distance metric is:  l2\n",
      "\n",
      "Accuracy of cosine metrics is 47.5870602793 %\n",
      "The best distance metric is:  cosine\n"
     ]
    }
   ],
   "source": [
    "from sklearn.neighbors.nearest_centroid import NearestCentroid\n",
    "from sklearn.cross_validation import StratifiedShuffleSplit\n",
    "from sklearn.neighbors import KNeighborsClassifier\n",
    "from sklearn.metrics import accuracy_score\n",
    "from IPython.html import widgets \n",
    "from sklearn.metrics import accuracy_score \n",
    "from sklearn import metrics as mt\n",
    "\n",
    "# the parameters for the nearest centroid metric to test are:\n",
    "#    l1, l2, and cosine (all are optimized)\n",
    "\n",
    "\n",
    "# fill in your code here\n",
    "\n",
    "for d in ['l1','l2','cosine']:\n",
    "    clf = NearestCentroid(metric=d)\n",
    "    clf.fit(X_train, y_train)\n",
    "    yhat = clf.predict(X_test)\n",
    "    acc = mt.accuracy_score(y_test,yhat)\n",
    "    print('\\nAccuracy of', d, 'metrics is', acc * 100, '%')    \n",
    "    print('The best distance metric is: ', d)"
   ]
  },
  {
   "cell_type": "markdown",
   "metadata": {},
   "source": [
    "___\n",
    "<a id=\"naive\"></a>\n",
    "<a href=\"#top\">Back to Top</a>\n",
    "## Naive Bayes Classification\n",
    "Now let's look at the use of the Naive Bayes classifier. The 20 newsgroups dataset has 20 classes and about 130,000 features per instance. Recall that the Naive Bayes classifer calculates a posterior distribution for each possible class. Each posterior distribution is a multiplication of many conditional distributions: \n",
    "\n",
    "$${\\arg \\max}_{j} \\left(p(class=j)\\prod_{i} p(attribute=i|class=j) \\right)$$\n",
    "\n",
    "where $p(class=j)$ is the prior and $p(attribute=i|class=j)$ is the conditional probability.\n",
    "\n",
    "**Question for part 5**: With this many classes and features, how many different conditional probabilities need to be parameterized? How many priors need to be parameterized?"
   ]
  },
  {
   "cell_type": "markdown",
   "metadata": {},
   "source": [
    "Enter you answer here:\n",
    "\n",
    "> There are 2602140 conditionals probabilities that need to be parameterized. There are 20 priors that need to be parameterized.\n",
    "\n"
   ]
  },
  {
   "cell_type": "code",
   "execution_count": 6,
   "metadata": {},
   "outputs": [
    {
     "name": "stdout",
     "output_type": "stream",
     "text": [
      "There are 2602140 conditionals probabilities that need to be parameterized.\n",
      "There are 20 priors that need to be parameterized.\n"
     ]
    }
   ],
   "source": [
    "# Use this space for any calculations you might want to do\n",
    "#total conditionals = number of features * number of classes\n",
    "total_conditionals = 20 * 130107\n",
    "priors = 20\n",
    "print('There are', total_conditionals, 'conditionals probabilities that need to be parameterized.')\n",
    "print('There are', priors, 'priors that need to be parameterized.')"
   ]
  },
  {
   "cell_type": "markdown",
   "metadata": {},
   "source": [
    "___\n",
    "## Naive Bayes in Scikit-learn\n",
    "Scikit has several implementations of the Naive Bayes classifier: `GaussianNB`, `MultinomialNB`, and `BernoulliNB`. Look at the documentation here: http://scikit-learn.org/stable/modules/naive_bayes.html Take a look at each implementation and then answer this question: \n",
    "\n",
    "**Questions for part 6**: \n",
    "- If the instances contain mostly continuous attributes, would it be better to use Gaussian Naive Bayes, Multinomial Naive Bayes, or Bernoulli? And Why? \n",
    "- What if the data is sparse, does this change your answer? Why or Why not?"
   ]
  },
  {
   "cell_type": "markdown",
   "metadata": {},
   "source": [
    "Enter you answer here:\n",
    "\n",
    "> Bernoulli uses binary/boolean attributes, whereas Multinomial Naive Bayes assumes various boolean categories. Both of these classifers are not appropriate for continuous attributes. Consequently, Gaussian Naive Bayes would be the most appropriate among the three options. It is the only one that incorporates continuous values into its function.\n",
    "\n",
    "> If the data is sparse, this does not change the answer because Gaussian Naive Bayes is still the only one that deals with continuous attributes. Doesn't matter if the data is sparse or not, what matters is the fact that the data is continuous vs boolean/discrete."
   ]
  },
  {
   "cell_type": "markdown",
   "metadata": {},
   "source": [
    "## Naive Bayes Comparison\n",
    "For the final section of this notebook let's compare the performance of Naive Bayes for document classification. Look at the parameters for `MultinomialNB`, and `BernoulliNB` (especially `alpha` and `binarize`). \n",
    "\n",
    "**Exercise for part 7**: Using the example code below, change the parameters for each classifier and see how accurate you can make the classifiers on the test set. \n",
    "\n",
    "**Question for part 7**: Why are these implementations so fast to train? What does the `'alpha'` value control in these models (*i.e.*, how does it change the parameterizations)? "
   ]
  },
  {
   "cell_type": "code",
   "execution_count": 7,
   "metadata": {},
   "outputs": [
    {
     "name": "stdout",
     "output_type": "stream",
     "text": [
      "\n",
      "\n",
      "At the alpha = 1 level...\n",
      "Accuracy for MultinomialNB is 69.5951917978 %\n",
      "Accuracy for BernoulliNB is 70.655824642 %\n",
      "\n",
      "\n",
      "At the alpha = 0.1 level...\n",
      "Accuracy for MultinomialNB is 83.6662541983 %\n",
      "Accuracy for BernoulliNB is 84.7445642567 %\n",
      "\n",
      "\n",
      "At the alpha = 0.05 level...\n",
      "Accuracy for MultinomialNB is 85.7168110306 %\n",
      "Accuracy for BernoulliNB is 85.5930705321 %\n",
      "\n",
      "\n",
      "At the alpha = 0.01 level...\n",
      "Accuracy for MultinomialNB is 88.1562665724 %\n",
      "Accuracy for BernoulliNB is 86.2471274527 %\n",
      "\n",
      "\n",
      "At the alpha = 0.001 level...\n",
      "Accuracy for MultinomialNB is 88.5805197101 %\n",
      "Accuracy for BernoulliNB is 86.3531907371 %\n",
      "\n",
      "\n",
      "At the binarize = 1 level...\n",
      "Accuracy for MultinomialNB is 88.5805197101 %\n",
      "Accuracy for BernoulliNB is 5.30316422132 %\n",
      "\n",
      "\n",
      "At the binarize = 0.1 level...\n",
      "Accuracy for MultinomialNB is 88.5805197101 %\n",
      "Accuracy for BernoulliNB is 68.4815273113 %\n",
      "\n",
      "\n",
      "At the binarize = 0.05 level...\n",
      "Accuracy for MultinomialNB is 88.5805197101 %\n",
      "Accuracy for BernoulliNB is 83.577868128 %\n",
      "\n",
      "\n",
      "At the binarize = 0.02 level...\n",
      "Accuracy for MultinomialNB is 88.5805197101 %\n",
      "Accuracy for BernoulliNB is 86.3531907371 %\n",
      "\n",
      "\n",
      "At the binarize = 0.01 level...\n",
      "Accuracy for MultinomialNB is 88.5805197101 %\n",
      "Accuracy for BernoulliNB is 86.070355312 %\n",
      "\n",
      "\n",
      "At the binarize = 0.001 level...\n",
      "Accuracy for MultinomialNB is 88.5805197101 %\n",
      "Accuracy for BernoulliNB is 82.7293618526 %\n",
      "\n",
      "\n",
      "These classifiers are so fast because... both MultinomialNB and BernoulliNB are classifying on boolean attribute(s).\n",
      "Naive Bayes is faster because it takes a probabilistic approach.\n",
      "\n",
      "\n",
      "The alpha values control... the form of the model because alpha is a hyper, as well as smoothing, parameter.\n"
     ]
    }
   ],
   "source": [
    "from sklearn.naive_bayes import MultinomialNB\n",
    "from sklearn.naive_bayes import BernoulliNB\n",
    "\n",
    "alphas = [1, 0.1, 0.05, 0.01, 0.001]\n",
    "\n",
    "for a in alphas:\n",
    "    clf_mnb = MultinomialNB(alpha=a)\n",
    "    clf_bnb = BernoulliNB(alpha=a, binarize=0.02)\n",
    "    \n",
    "    clf_mnb.fit(X_train, y_train)\n",
    "    yhat1 = clf_mnb.predict(X_test)\n",
    "    acc1 = mt.accuracy_score(y_test,yhat1)\n",
    "    print('\\n\\nAt the alpha =', a, 'level...')\n",
    "    print ('Accuracy for MultinomialNB is', acc1 * 100, '%')\n",
    "    \n",
    "    clf_bnb.fit(X_train, y_train)\n",
    "    yhat2 = clf_bnb.predict(X_test)\n",
    "    acc2 = mt.accuracy_score(y_test,yhat2)\n",
    "    print ('Accuracy for BernoulliNB is', acc2 * 100, '%')\n",
    "\n",
    "bins = [1, 0.1, 0.05, 0.02, 0.01, 0.001]\n",
    "\n",
    "for b in bins:\n",
    "    clf_mnb = MultinomialNB(alpha=0.001)\n",
    "    clf_bnb = BernoulliNB(alpha=0.001, binarize=b)\n",
    "    \n",
    "    clf_mnb.fit(X_train, y_train)\n",
    "    yhat1 = clf_mnb.predict(X_test)\n",
    "    acc1 = mt.accuracy_score(y_test,yhat1)\n",
    "    print('\\n\\nAt the binarize =', b, 'level...')\n",
    "    print ('Accuracy for MultinomialNB is', acc1 * 100, '%')\n",
    "    \n",
    "    clf_bnb.fit(X_train, y_train)\n",
    "    yhat2 = clf_bnb.predict(X_test)\n",
    "    acc2 = mt.accuracy_score(y_test,yhat2)\n",
    "    print ('Accuracy for BernoulliNB is', acc2 * 100, '%')   \n",
    "            \n",
    "print('\\n\\nThese classifiers are so fast because...',\n",
    "      'both MultinomialNB and BernoulliNB are classifying on boolean attribute(s).')\n",
    "print('Naive Bayes is faster because it takes a probabilistic approach.')\n",
    "print('\\n\\nThe alpha values control...', 'the form of the model because alpha is a hyper, as well as smoothing, parameter.')\n"
   ]
  },
  {
   "cell_type": "markdown",
   "metadata": {
    "collapsed": true
   },
   "source": [
    "________________________________________________________________________________________________________\n",
    "\n",
    "That's all! Please **upload your rendered notebook to blackboard** and please include **team member names** in the notebook submission."
   ]
  },
  {
   "cell_type": "code",
   "execution_count": null,
   "metadata": {},
   "outputs": [],
   "source": []
  },
  {
   "cell_type": "code",
   "execution_count": null,
   "metadata": {},
   "outputs": [],
   "source": []
  },
  {
   "cell_type": "code",
   "execution_count": null,
   "metadata": {},
   "outputs": [],
   "source": []
  }
 ],
 "metadata": {
  "kernelspec": {
   "display_name": "Python 3",
   "language": "python",
   "name": "python3"
  },
  "language_info": {
   "codemirror_mode": {
    "name": "ipython",
    "version": 3
   },
   "file_extension": ".py",
   "mimetype": "text/x-python",
   "name": "python",
   "nbconvert_exporter": "python",
   "pygments_lexer": "ipython3",
   "version": "3.6.3"
  }
 },
 "nbformat": 4,
 "nbformat_minor": 1
}
